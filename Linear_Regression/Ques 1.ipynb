{
 "cells": [
  {
   "cell_type": "code",
   "execution_count": 15,
   "source": [
    "from matplotlib import pyplot as plt\r\n",
    "import pandas as pd\r\n",
    "import numpy as np\r\n",
    "from sklearn.linear_model import LinearRegression\r\n",
    "from sklearn.model_selection import train_test_split\r\n"
   ],
   "outputs": [],
   "metadata": {
    "id": "NF6qb8hVzYrz"
   }
  },
  {
   "cell_type": "code",
   "execution_count": 16,
   "source": [
    "df=pd.read_csv(\"linear_regression_dataset.csv\")"
   ],
   "outputs": [],
   "metadata": {}
  },
  {
   "cell_type": "code",
   "execution_count": 17,
   "source": [
    "X=df[['Weight']]\r\n",
    "Y=df[['Height ']]\r\n",
    "plt.scatter(X,Y)\r\n",
    "plt.xlabel('Weight')\r\n",
    "plt.ylabel('Height')"
   ],
   "outputs": [
    {
     "output_type": "execute_result",
     "data": {
      "text/plain": [
       "Text(0, 0.5, 'Height')"
      ]
     },
     "metadata": {},
     "execution_count": 17
    },
    {
     "output_type": "display_data",
     "data": {
      "text/plain": [
       "<Figure size 432x288 with 1 Axes>"
      ],
      "image/png": "[encoded data removed]"
     },
     "metadata": {
      "needs_background": "light"
     }
    }
   ],
   "metadata": {}
  },
  {
   "cell_type": "code",
   "execution_count": 18,
   "source": [
    "X_train,X_test,y_train,y_test=train_test_split(X,Y,test_size=0.4)\r\n",
    "model=LinearRegression(fit_intercept=True)\r\n",
    "fit_model=model.fit(X_train,y_train)\r\n",
    "fit_model.coef_[0]\r\n"
   ],
   "outputs": [
    {
     "output_type": "execute_result",
     "data": {
      "text/plain": [
       "array([0.01583284])"
      ]
     },
     "metadata": {},
     "execution_count": 18
    }
   ],
   "metadata": {}
  },
  {
   "cell_type": "code",
   "execution_count": 19,
   "source": [
    "fit_model.intercept_"
   ],
   "outputs": [
    {
     "output_type": "execute_result",
     "data": {
      "text/plain": [
       "array([0.66790918])"
      ]
     },
     "metadata": {},
     "execution_count": 19
    }
   ],
   "metadata": {}
  },
  {
   "cell_type": "code",
   "execution_count": 20,
   "source": [
    "plt.scatter(X,Y)\r\n",
    "pred=(fit_model.predict(X))\r\n",
    "plt.plot(X,pred,color='Green')\r\n",
    "plt.xlabel('Weight')\r\n",
    "plt.ylabel('Height')"
   ],
   "outputs": [
    {
     "output_type": "execute_result",
     "data": {
      "text/plain": [
       "Text(0, 0.5, 'Height')"
      ]
     },
     "metadata": {},
     "execution_count": 20
    },
    {
     "output_type": "display_data",
     "data": {
      "text/plain": [
       "<Figure size 432x288 with 1 Axes>"
      ],
      "image/png": "[encoded data removed]"
     },
     "metadata": {
      "needs_background": "light"
     }
    }
   ],
   "metadata": {}
  },
  {
   "cell_type": "code",
   "execution_count": 21,
   "source": [
    "X_train,X_test,y_train,y_test=train_test_split(X,Y,test_size=0.4)"
   ],
   "outputs": [],
   "metadata": {}
  },
  {
   "cell_type": "code",
   "execution_count": 32,
   "source": [
    "X=df['Weight']\r\n",
    "Y=df['Height ']\r\n",
    "\r\n",
    "plt.scatter(X,Y)\r\n",
    "plt.grid()\r\n",
    "plt.xlabel(\"Weight\")\r\n",
    "plt.ylabel(\"Height\")"
   ],
   "outputs": [
    {
     "output_type": "execute_result",
     "data": {
      "text/plain": [
       "Text(0, 0.5, 'Height')"
      ]
     },
     "metadata": {},
     "execution_count": 32
    },
    {
     "output_type": "display_data",
     "data": {
      "text/plain": [
       "<Figure size 432x288 with 1 Axes>"
      ],
      "image/png": "[encoded data removed]"
     },
     "metadata": {
      "needs_background": "light"
     }
    }
   ],
   "metadata": {
    "colab": {
     "base_uri": "https://localhost:8080/",
     "height": 215
    },
    "id": "p-yF0rvtzYr_",
    "outputId": "d6c68b96-f797-4323-acd4-c04211de5b2c"
   }
  },
  {
   "cell_type": "code",
   "execution_count": 33,
   "source": [
    "\r\n",
    "theta=np.array([[0.91],[0.1]])\r\n",
    "def hypothesis(x,theta):\r\n",
    "    y_= theta[0]+theta[1]*x\r\n",
    "    return(y_)\r\n",
    "\r\n",
    "hypothesis(X,theta)"
   ],
   "outputs": [
    {
     "output_type": "execute_result",
     "data": {
      "text/plain": [
       "0     6.131\n",
       "1     6.222\n",
       "2     6.358\n",
       "3     6.494\n",
       "4     6.630\n",
       "5     6.767\n",
       "6     6.903\n",
       "7     7.039\n",
       "8     7.221\n",
       "9     7.357\n",
       "10    7.538\n",
       "11    7.720\n",
       "12    7.902\n",
       "13    8.129\n",
       "14    8.356\n",
       "Name: Weight, dtype: float64"
      ]
     },
     "metadata": {},
     "execution_count": 33
    }
   ],
   "metadata": {
    "colab": {
     "base_uri": "https://localhost:8080/",
     "height": 232
    },
    "id": "CGQd4sxuzYsE",
    "outputId": "a527ee1f-cdef-4bbf-cd4c-3123907c80f0"
   }
  },
  {
   "cell_type": "code",
   "execution_count": 34,
   "source": [
    "def cost(X,Y,theta,y_):\r\n",
    "    m=len(Y)\r\n",
    "    error=0\r\n",
    "    y_=hypothesis(X,theta)\r\n",
    "    for i in range(m):\r\n",
    "      error+=(1/2*m)*((y_-Y)**2)\r\n",
    "    return(np.sum(error))"
   ],
   "outputs": [],
   "metadata": {
    "id": "tzsk6kPNJ2mm"
   }
  },
  {
   "cell_type": "code",
   "execution_count": 35,
   "source": [
    "def gradient(X,y,theta):\r\n",
    "  m=len(Y)\r\n",
    "  grad=np.zeros((2,))\r\n",
    "  for i in range(m):\r\n",
    "    x1=X[i]\r\n",
    "    y1=Y[i]\r\n",
    "    y_=hypothesis(X,theta)\r\n",
    "    grad[0]+=(y_[i]-y1)*(1/m)\r\n",
    "    grad[1]+=(y_[i]-y1)*(x1/m)\r\n",
    "  return grad"
   ],
   "outputs": [],
   "metadata": {
    "id": "DFpje0puzYsG"
   }
  },
  {
   "cell_type": "code",
   "execution_count": 36,
   "source": [
    "\r\n",
    "def gradientdesc(X,Y,alpha,epochs):\r\n",
    "    m=len(Y)\r\n",
    "    theta=np.zeros((2,))\r\n",
    "    l=[]\r\n",
    "    k=[]\r\n",
    "    for i in range(epochs):\r\n",
    "      grad = gradient(X,Y,theta)\r\n",
    "      theta[0]=theta[0]-alpha*grad[0]\r\n",
    "      theta[1]=theta[1]-(alpha*grad[1])\r\n",
    "      l.append(theta[0])\r\n",
    "      k.append(theta[1])\r\n",
    "    return(theta)\r\n",
    "\r\n",
    "\r\n",
    "\r\n",
    "\r\n",
    "\r\n",
    "\r\n",
    "    \r\n",
    "\r\n",
    "        "
   ],
   "outputs": [],
   "metadata": {
    "id": "3q5wGHyNzYsH"
   }
  },
  {
   "cell_type": "code",
   "execution_count": 37,
   "source": [
    "theta=gradientdesc(X,Y,0.0001,1000)\r\n"
   ],
   "outputs": [],
   "metadata": {
    "colab": {
     "base_uri": "https://localhost:8080/"
    },
    "id": "qfz_bGUNzYsH",
    "outputId": "f64e82af-fb32-4b29-f277-cad21635b07c"
   }
  },
  {
   "cell_type": "code",
   "execution_count": 38,
   "source": [
    "y_new=hypothesis(X,theta)\r\n",
    "y_new"
   ],
   "outputs": [
    {
     "output_type": "execute_result",
     "data": {
      "text/plain": [
       "0     1.381896\n",
       "1     1.405973\n",
       "2     1.441957\n",
       "3     1.477940\n",
       "4     1.513924\n",
       "5     1.550172\n",
       "6     1.586156\n",
       "7     1.622139\n",
       "8     1.670294\n",
       "9     1.706277\n",
       "10    1.754167\n",
       "11    1.802321\n",
       "12    1.850476\n",
       "13    1.910537\n",
       "14    1.970598\n",
       "Name: Weight, dtype: float64"
      ]
     },
     "metadata": {},
     "execution_count": 38
    }
   ],
   "metadata": {
    "colab": {
     "base_uri": "https://localhost:8080/"
    },
    "id": "NgliRnpxzYsH",
    "outputId": "7a879281-5fed-4bf2-ba74-d34533a860e0"
   }
  },
  {
   "cell_type": "code",
   "execution_count": null,
   "source": [],
   "outputs": [],
   "metadata": {
    "colab": {
     "base_uri": "https://localhost:8080/"
    },
    "id": "aPPCSRTWzYsH",
    "outputId": "894d6e86-4054-4bde-f9b0-694a5559a11f"
   }
  },
  {
   "cell_type": "code",
   "execution_count": 40,
   "source": [
    "plt.plot(X,y_new)\r\n",
    "plt.scatter(X,Y)\r\n",
    "plt.plot(X,pred)"
   ],
   "outputs": [
    {
     "output_type": "execute_result",
     "data": {
      "text/plain": [
       "[<matplotlib.lines.Line2D at 0x27e334878e0>]"
      ]
     },
     "metadata": {},
     "execution_count": 40
    },
    {
     "output_type": "display_data",
     "data": {
      "text/plain": [
       "<Figure size 432x288 with 1 Axes>"
      ],
      "image/png": "[encoded data removed]"
     },
     "metadata": {
      "needs_background": "light"
     }
    }
   ],
   "metadata": {
    "colab": {
     "base_uri": "https://localhost:8080/",
     "height": 282
    },
    "id": "BcShLct8zYsI",
    "outputId": "76138b69-4e30-4c3d-c4d4-5e00ebfc37ab"
   }
  },
  {
   "cell_type": "markdown",
   "source": [
    "Here the blue line denotes the line obtained by writing the linear regression code from scratch .Orange line is obtained by using the sklearn library.We can see that the orange line perfectly fits the data and can give more accurate measurements compared to the blue line.The precision of blue line is much lower compared to the orange line."
   ],
   "metadata": {}
  },
  {
   "cell_type": "code",
   "execution_count": null,
   "source": [],
   "outputs": [],
   "metadata": {
    "id": "ngnoddrMzYsK"
   }
  },
  {
   "cell_type": "code",
   "execution_count": null,
   "source": [],
   "outputs": [],
   "metadata": {
    "id": "R8AGHqvVzYsK"
   }
  },
  {
   "cell_type": "code",
   "execution_count": null,
   "source": [],
   "outputs": [],
   "metadata": {
    "id": "k8f26sDDzYsK"
   }
  },
  {
   "cell_type": "code",
   "execution_count": null,
   "source": [],
   "outputs": [],
   "metadata": {
    "id": "IZPDhBEuzYsL"
   }
  },
  {
   "cell_type": "code",
   "execution_count": null,
   "source": [],
   "outputs": [],
   "metadata": {
    "id": "36uZiFmCzYsL"
   }
  },
  {
   "cell_type": "code",
   "execution_count": null,
   "source": [],
   "outputs": [],
   "metadata": {
    "id": "aOFuGP3kzYsL"
   }
  },
  {
   "cell_type": "code",
   "execution_count": null,
   "source": [],
   "outputs": [],
   "metadata": {
    "id": "G6dczs8MzYsL"
   }
  }
 ],
 "metadata": {
  "colab": {
   "collapsed_sections": [],
   "name": "linreg.ipynb",
   "provenance": []
  },
  "kernelspec": {
   "display_name": "Python 3",
   "language": "python",
   "name": "python3"
  },
  "language_info": {
   "codemirror_mode": {
    "name": "ipython",
    "version": 3
   },
   "file_extension": ".py",
   "mimetype": "text/x-python",
   "name": "python",
   "nbconvert_exporter": "python",
   "pygments_lexer": "ipython3",
   "version": "3.8.8"
  }
 },
 "nbformat": 4,
 "nbformat_minor": 1
}